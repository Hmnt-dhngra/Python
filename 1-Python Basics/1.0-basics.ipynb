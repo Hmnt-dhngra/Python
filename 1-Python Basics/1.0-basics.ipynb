{
 "cells": [
  {
   "cell_type": "markdown",
   "id": "3d0cb462",
   "metadata": {},
   "source": [
    "## Python Basics"
   ]
  },
  {
   "cell_type": "code",
   "execution_count": 5,
   "id": "c768ee0e",
   "metadata": {},
   "outputs": [],
   "source": [
    "## Python is case sensitive"
   ]
  },
  {
   "cell_type": "code",
   "execution_count": 2,
   "id": "812c1a21",
   "metadata": {},
   "outputs": [
    {
     "data": {
      "text/plain": [
       "'\\nThis shows that this is a multi line comment which uses \\ntriple quotes\\n\\n'"
      ]
     },
     "execution_count": 2,
     "metadata": {},
     "output_type": "execute_result"
    }
   ],
   "source": [
    "\"\"\"\n",
    "This shows that this is a multi line comment which uses \n",
    "triple quotes\n",
    "\n",
    "\"\"\""
   ]
  },
  {
   "cell_type": "code",
   "execution_count": 4,
   "id": "1c7271d5",
   "metadata": {},
   "outputs": [
    {
     "data": {
      "text/plain": [
       "'This shows that this is a single line comment which uses single quotes'"
      ]
     },
     "execution_count": 4,
     "metadata": {},
     "output_type": "execute_result"
    }
   ],
   "source": [
    "\"This shows that this is a single line comment which uses single quotes\""
   ]
  },
  {
   "cell_type": "code",
   "execution_count": 10,
   "id": "1f7cd9e2",
   "metadata": {},
   "outputs": [
    {
     "name": "stdout",
     "output_type": "stream",
     "text": [
      "37\n"
     ]
    }
   ],
   "source": [
    "## Line continuation    ## (\\) allows the tline to be continued. This adds to the visual appeal  \n",
    "total = 1+2+3+4+5+\\\n",
    "4+5+6+7\n",
    "\n",
    "print(total)"
   ]
  },
  {
   "cell_type": "code",
   "execution_count": 11,
   "id": "249234dd",
   "metadata": {},
   "outputs": [
    {
     "name": "stdout",
     "output_type": "stream",
     "text": [
      "15\n"
     ]
    }
   ],
   "source": [
    "## Multiple statements on a single line \n",
    "x=5;y=3;z=7\n",
    "print(x+y+z)"
   ]
  },
  {
   "cell_type": "code",
   "execution_count": 14,
   "id": "358c377c",
   "metadata": {},
   "outputs": [
    {
     "name": "stdout",
     "output_type": "stream",
     "text": [
      "34\n"
     ]
    }
   ],
   "source": [
    "age =32\n",
    "if age>30:\n",
    "    print(age+2)## indentation needed"
   ]
  },
  {
   "cell_type": "code",
   "execution_count": 15,
   "id": "43f306c5",
   "metadata": {},
   "outputs": [
    {
     "name": "stdout",
     "output_type": "stream",
     "text": [
      "Correct Indentation\n",
      "This will print\n",
      "Outside the if block \n"
     ]
    }
   ],
   "source": [
    "## Code examples of indentation\n",
    "## ques: How many times will the print statement be executed?\n",
    "if True:\n",
    "    print(\"Correct Indentation\")\n",
    "    if False:\n",
    "        print(\"This wont print\")\n",
    "    print(\"This will print\")\n",
    "print(\"Outside the if block \")"
   ]
  },
  {
   "cell_type": "code",
   "execution_count": null,
   "id": "b9393647",
   "metadata": {},
   "outputs": [],
   "source": []
  }
 ],
 "metadata": {
  "kernelspec": {
   "display_name": "Udemy",
   "language": "python",
   "name": "python3"
  },
  "language_info": {
   "codemirror_mode": {
    "name": "ipython",
    "version": 3
   },
   "file_extension": ".py",
   "mimetype": "text/x-python",
   "name": "python",
   "nbconvert_exporter": "python",
   "pygments_lexer": "ipython3",
   "version": "3.12.7"
  }
 },
 "nbformat": 4,
 "nbformat_minor": 5
}
