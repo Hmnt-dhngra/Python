{
 "cells": [
  {
   "cell_type": "markdown",
   "id": "a335ff55",
   "metadata": {},
   "source": [
    "## File Operations"
   ]
  },
  {
   "cell_type": "code",
   "execution_count": 2,
   "id": "c6529635",
   "metadata": {},
   "outputs": [
    {
     "name": "stdout",
     "output_type": "stream",
     "text": [
      "Hello world!\n",
      "This is a new line\n",
      "First tyr at appending!\n",
      "This is a new line after appending\n",
      "List line added 1\n",
      "List line added 2\n",
      "List line added 3\n",
      "List line added 101List line added 102List line added 103List line added 101List line added 102List line added 103\n"
     ]
    }
   ],
   "source": [
    "with open('example.txt', 'r') as file:\n",
    "    content = file.read()\n",
    "    print(content)"
   ]
  },
  {
   "cell_type": "code",
   "execution_count": 3,
   "id": "531b8f6c",
   "metadata": {},
   "outputs": [
    {
     "name": "stdout",
     "output_type": "stream",
     "text": [
      "Hello world!\n",
      "\n",
      "This is a new line\n",
      "\n",
      "First tyr at appending!\n",
      "\n",
      "This is a new line after appending\n",
      "\n",
      "List line added 1\n",
      "\n",
      "List line added 2\n",
      "\n",
      "List line added 3\n",
      "\n",
      "List line added 101List line added 102List line added 103List line added 101List line added 102List line added 103\n"
     ]
    }
   ],
   "source": [
    "## Read a file line by line\n",
    "with open('example.txt', 'r') as file:\n",
    "    for line in file:\n",
    "        print(line)\n",
    "\n",
    "## observe the output it has line spaces in between successive lines because your input file also had them"
   ]
  },
  {
   "cell_type": "code",
   "execution_count": 4,
   "id": "9ce27d82",
   "metadata": {},
   "outputs": [
    {
     "name": "stdout",
     "output_type": "stream",
     "text": [
      "Hello world!\n",
      "This is a new line\n",
      "First tyr at appending!\n",
      "This is a new line after appending\n",
      "List line added 1\n",
      "List line added 2\n",
      "List line added 3\n",
      "List line added 101List line added 102List line added 103List line added 101List line added 102List line added 103\n"
     ]
    }
   ],
   "source": [
    "## Read a file line by line\n",
    "with open('example.txt', 'r') as file:\n",
    "    for line in file:\n",
    "        print(line.strip()) ## .strip() removes the new line character\n",
    "\n",
    "## no new line character because it has been stripped"
   ]
  },
  {
   "cell_type": "code",
   "execution_count": 5,
   "id": "aee875ec",
   "metadata": {},
   "outputs": [],
   "source": [
    "## Writing a file (Over write)\n",
    "\n",
    "with open('example.txt', 'w') as file:  ## observe the 'w' mode here\n",
    "    file.write('Hello world!\\n')\n",
    "    file.write('This is a new line\\n')\n",
    "\n",
    "## The complete file got overwritten and the old content is lost. "
   ]
  },
  {
   "cell_type": "code",
   "execution_count": 6,
   "id": "2047f1fa",
   "metadata": {},
   "outputs": [],
   "source": [
    "## Writing a file (without Overwrite)\n",
    "\n",
    "with open('example.txt', 'a') as file:\n",
    "    file.write('First tyr at appending!\\n')\n",
    "    file.write('This is a new line after appending\\n')\n",
    "\n",
    "## The complete file got appended with the new data you added thus preserving the old text.  "
   ]
  },
  {
   "cell_type": "code",
   "execution_count": 7,
   "id": "e9b1c1cd",
   "metadata": {},
   "outputs": [],
   "source": [
    "## Writing a list of lines to a file\n",
    "lines=[\"List line added 1\", \"List line added 2\", \"List line added 3\"]"
   ]
  },
  {
   "cell_type": "code",
   "execution_count": 8,
   "id": "fbd34044",
   "metadata": {},
   "outputs": [],
   "source": [
    "## Writing a file (without Overwrite)\n",
    "\n",
    "with open('example.txt', 'a') as file:\n",
    "    for i in lines:\n",
    "        file.write(f\"{i}\\n\")\n",
    "    \n"
   ]
  },
  {
   "cell_type": "code",
   "execution_count": 9,
   "id": "fe4cf6f8",
   "metadata": {},
   "outputs": [],
   "source": [
    "## Writing a list of lines to a file\n",
    "lines2=[\"List line added 101\", \"List line added 102\", \"List line added 103\"]"
   ]
  },
  {
   "cell_type": "code",
   "execution_count": 10,
   "id": "c1969bef",
   "metadata": {},
   "outputs": [],
   "source": [
    "## Writing a file (without Overwrite)\n",
    "\n",
    "with open('example.txt', 'a') as file: ## observe the 'a' mode here \n",
    "    file.writelines(lines2)\n",
    "\n",
    "\n",
    "## it didnt come in the new lines becaujse a \\n was missing but you know the drill now. \n"
   ]
  },
  {
   "cell_type": "code",
   "execution_count": 11,
   "id": "86528a0f",
   "metadata": {},
   "outputs": [],
   "source": [
    "### Binary files\n",
    "\n",
    "## writing to a bianry file \n",
    "data =b'\\x00\\x01\\x02\\x03\\x04'\n",
    "with open('example.bin', 'wb') as file:## observe the wb mode here\n",
    "    file.write(data)"
   ]
  },
  {
   "cell_type": "code",
   "execution_count": 12,
   "id": "ba9b12ff",
   "metadata": {},
   "outputs": [
    {
     "name": "stdout",
     "output_type": "stream",
     "text": [
      "b'\\x00\\x01\\x02\\x03\\x04'\n"
     ]
    }
   ],
   "source": [
    "### Binary files\n",
    "\n",
    "## writing to a bianry file \n",
    "\n",
    "with open('example.bin', 'rb') as file:\n",
    "    content = file.read()\n",
    "    print(content)"
   ]
  },
  {
   "cell_type": "code",
   "execution_count": 13,
   "id": "8300e4e4",
   "metadata": {},
   "outputs": [],
   "source": [
    "## Read from a source text file and write to a destination text file\n",
    "## Copying a text file\n",
    "with open('example.txt', 'r') as source_file:\n",
    "    content = source_file.read()\n",
    "with open('destination.txt', 'w') as dest_file:\n",
    "    dest_file.write(content)"
   ]
  },
  {
   "cell_type": "code",
   "execution_count": null,
   "id": "35ac97bb",
   "metadata": {},
   "outputs": [
    {
     "name": "stdout",
     "output_type": "stream",
     "text": [
      "8 lines have been read\n",
      "There are in total 202 characters in the file\n",
      "There are in total 40 words in the file\n"
     ]
    }
   ],
   "source": [
    "## Read a text file and count the number of lines, words and characters. \n",
    "\n",
    "\n",
    "with open('example.txt', 'r') as file:\n",
    "    lines=file.readlines()\n",
    "    print(f\"{len(lines)} lines have been read\")\n",
    "    count=0\n",
    "    word_count=0\n",
    "    for line in lines:\n",
    "        word_count+=len(line.split())\n",
    "        count+=len(line)\n",
    "    print(f\"There are in total {count} characters in the file\")\n",
    "    print(f\"There are in total {word_count} words in the file\")\n",
    "    "
   ]
  },
  {
   "cell_type": "markdown",
   "id": "ae83dd80",
   "metadata": {},
   "source": [
    "The w+ mode is used to open a file for both reading and writing purposes. If the file doesn't exist, it will be created. If the file exists, its contents will be overwritten"
   ]
  },
  {
   "cell_type": "code",
   "execution_count": null,
   "id": "9de132a6",
   "metadata": {},
   "outputs": [],
   "source": [
    "## Writing and then reading a file\n",
    "\n",
    "with open('example.txt','w+') as file:\n",
    "    file.write(\"Hello world \\n\")\n",
    "    file.write(\" This is a new line \\n\")  ## afte rthis the cursor will be on second line\n",
    "    \n",
    "    ## Move the cursor to the beginning\n",
    "    file.seek(0)\n",
    "\n",
    "    ## Read the content of the file \n",
    "\n",
    "    content = file.read()\n",
    "    print(content)"
   ]
  },
  {
   "cell_type": "markdown",
   "id": "b7426b71",
   "metadata": {},
   "source": [
    "Revisit the above one with w+ mode, this is a bit confusing"
   ]
  },
  {
   "cell_type": "code",
   "execution_count": null,
   "id": "ca345cfd",
   "metadata": {},
   "outputs": [],
   "source": []
  },
  {
   "cell_type": "code",
   "execution_count": null,
   "metadata": {},
   "outputs": [],
   "source": []
  },
  {
   "cell_type": "code",
   "execution_count": null,
   "metadata": {},
   "outputs": [],
   "source": []
  },
  {
   "cell_type": "code",
   "execution_count": null,
   "id": "9d48dd86",
   "metadata": {},
   "outputs": [],
   "source": []
  }
 ],
 "metadata": {
  "kernelspec": {
   "display_name": "Udemy",
   "language": "python",
   "name": "python3"
  },
  "language_info": {
   "codemirror_mode": {
    "name": "ipython",
    "version": 3
   },
   "file_extension": ".py",
   "mimetype": "text/x-python",
   "name": "python",
   "nbconvert_exporter": "python",
   "pygments_lexer": "ipython3",
   "version": "3.12.7"
  }
 },
 "nbformat": 4,
 "nbformat_minor": 5
}
