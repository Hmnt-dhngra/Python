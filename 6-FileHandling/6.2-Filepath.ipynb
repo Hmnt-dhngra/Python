{
 "cells": [
  {
   "cell_type": "code",
   "execution_count": 2,
   "id": "f70631b1",
   "metadata": {},
   "outputs": [
    {
     "name": "stdout",
     "output_type": "stream",
     "text": [
      " The current working directory is c:\\Personal\\upskill2025\\Udemy\\6-FileHandling\n"
     ]
    }
   ],
   "source": [
    "import os\n",
    "print(f\" The current working directory is {os.getcwd()}\")"
   ]
  },
  {
   "cell_type": "code",
   "execution_count": null,
   "id": "78b04cd2",
   "metadata": {},
   "outputs": [],
   "source": [
    "## Create a new directory\n",
    "os.makedirs(f\"{os.getcwd()}/dumb_directory\", exist_ok=True)"
   ]
  },
  {
   "cell_type": "code",
   "execution_count": 6,
   "id": "d5d17073",
   "metadata": {},
   "outputs": [
    {
     "data": {
      "text/plain": [
       "['6.1-FileOperations.ipynb',\n",
       " '6.2-Filepath.ipynb',\n",
       " 'destination.txt',\n",
       " 'dumb_directory',\n",
       " 'example.bin',\n",
       " 'example.txt']"
      ]
     },
     "execution_count": 6,
     "metadata": {},
     "output_type": "execute_result"
    }
   ],
   "source": [
    "## Listing files in a particular directory\n",
    "\n",
    "os.listdir(os.getcwd())"
   ]
  },
  {
   "cell_type": "code",
   "execution_count": null,
   "id": "815c33c6",
   "metadata": {},
   "outputs": [
    {
     "data": {
      "text/plain": [
       "['6.1-FileOperations.ipynb',\n",
       " '6.2-Filepath.ipynb',\n",
       " 'destination.txt',\n",
       " 'dumb_directory',\n",
       " 'example.bin',\n",
       " 'example.txt']"
      ]
     },
     "execution_count": 7,
     "metadata": {},
     "output_type": "execute_result"
    }
   ],
   "source": [
    "## Listing everything in the current working directory\n",
    "\n",
    "os.listdir('.')"
   ]
  },
  {
   "cell_type": "code",
   "execution_count": 8,
   "id": "7384e9c6",
   "metadata": {},
   "outputs": [
    {
     "name": "stdout",
     "output_type": "stream",
     "text": [
      "folder\\file.txt\n"
     ]
    }
   ],
   "source": [
    "## Joining paths\n",
    "\n",
    "dir_name = 'folder'\n",
    "file_name = 'file.txt'\n",
    "\n",
    "partial_path=os.path.join(dir_name, file_name)\n",
    "print(partial_path)\n"
   ]
  },
  {
   "cell_type": "code",
   "execution_count": 9,
   "id": "00090b88",
   "metadata": {},
   "outputs": [
    {
     "name": "stdout",
     "output_type": "stream",
     "text": [
      "c:\\Personal\\upskill2025\\Udemy\\6-FileHandling\\folder\\file.txt\n"
     ]
    }
   ],
   "source": [
    "## Joining paths\n",
    "\n",
    "dir_name = 'folder'\n",
    "file_name = 'file.txt'\n",
    "\n",
    "full_path=os.path.join(os.getcwd(), dir_name, file_name)\n",
    "print(full_path)\n"
   ]
  },
  {
   "cell_type": "code",
   "execution_count": 11,
   "id": "9a8665d7",
   "metadata": {},
   "outputs": [
    {
     "name": "stdout",
     "output_type": "stream",
     "text": [
      "The path was non existent, I created it\n"
     ]
    }
   ],
   "source": [
    "path = 'c:\\\\Personal\\\\upskill2025\\\\Udemy\\\\6-FileHandling\\\\dummy_directory'\n",
    "if os.path.exists(path):\n",
    "    print(f'The path {path} exists')\n",
    "else:\n",
    "    print('The path was non existent, I created it' )\n",
    "    os.makedirs(path)"
   ]
  },
  {
   "cell_type": "code",
   "execution_count": 14,
   "id": "d7a5b692",
   "metadata": {},
   "outputs": [
    {
     "name": "stdout",
     "output_type": "stream",
     "text": [
      "The path example.txt is a file\n"
     ]
    }
   ],
   "source": [
    "## Checking if a path is a file or directory\n",
    "\n",
    "path='example.txt'\n",
    "if os.path.isfile(path):\n",
    "    print(f'The path {path} is a file')\n",
    "elif os.path.isdir(path):\n",
    "    print(f'The path {path} is a directory')\n",
    "else:\n",
    "    print(f'The path {path} is neither a file nor a directory.')"
   ]
  },
  {
   "cell_type": "code",
   "execution_count": null,
   "id": "69d2ae4c",
   "metadata": {},
   "outputs": [
    {
     "name": "stdout",
     "output_type": "stream",
     "text": [
      "absolute_path c:\\Personal\\upskill2025\\Udemy\\6-FileHandling\\example.txt\n"
     ]
    }
   ],
   "source": [
    "## Finding the absolute path\n",
    "\n",
    "relative_path = 'example.txt'\n",
    "\n",
    "absolute_path=os.path.abspath(relative_path)\n",
    "print(f\"absolute_path {absolute_path}\")"
   ]
  },
  {
   "cell_type": "code",
   "execution_count": null,
   "id": "a2b49911",
   "metadata": {},
   "outputs": [],
   "source": []
  }
 ],
 "metadata": {
  "kernelspec": {
   "display_name": "Udemy",
   "language": "python",
   "name": "python3"
  },
  "language_info": {
   "codemirror_mode": {
    "name": "ipython",
    "version": 3
   },
   "file_extension": ".py",
   "mimetype": "text/x-python",
   "name": "python",
   "nbconvert_exporter": "python",
   "pygments_lexer": "ipython3",
   "version": "3.12.7"
  }
 },
 "nbformat": 4,
 "nbformat_minor": 5
}
