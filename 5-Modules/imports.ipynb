{
 "cells": [
  {
   "cell_type": "markdown",
   "id": "413828ed",
   "metadata": {},
   "source": [
    "In Python, modules and packages help organize and reuse code. Here's a comprehensive guide on how to import them."
   ]
  },
  {
   "cell_type": "code",
   "execution_count": null,
   "id": "5d4f8b3a",
   "metadata": {},
   "outputs": [],
   "source": [
    "import math \n",
    "## when you do import of something you are actually importing a module or a package and inside that module, ther can be different in-built functions"
   ]
  },
  {
   "cell_type": "code",
   "execution_count": null,
   "metadata": {},
   "outputs": [
    {
     "data": {
      "text/plain": [
       "6.708203932499369"
      ]
     },
     "execution_count": 3,
     "metadata": {},
     "output_type": "execute_result"
    }
   ],
   "source": [
    "## Common way of use\n",
    "math.sqrt(45)\n",
    "## sqrt is an in-built function inside the module names as math"
   ]
  },
  {
   "cell_type": "code",
   "execution_count": 5,
   "id": "c7c26379",
   "metadata": {},
   "outputs": [
    {
     "data": {
      "text/plain": [
       "6.708203932499369"
      ]
     },
     "execution_count": 5,
     "metadata": {},
     "output_type": "execute_result"
    }
   ],
   "source": [
    "## Alternative way of using the inbuilt functions of the module\n",
    "from math import sqrt\n",
    "sqrt(45)\n",
    "## If you imported like this, you wouldn't need to write the module name again and again and the built-in functions of that module will beco0me native to your porgram and u can cal them directly. "
   ]
  },
  {
   "cell_type": "code",
   "execution_count": 8,
   "id": "78a8b046",
   "metadata": {},
   "outputs": [
    {
     "name": "stdout",
     "output_type": "stream",
     "text": [
      "3.141592653589793\n"
     ]
    }
   ],
   "source": [
    "## You can also import every function inside the module\n",
    "from math import *\n",
    "print(pi)## you didnt need to call math.pi because you have already imported all the built in fucntions of that module"
   ]
  },
  {
   "cell_type": "code",
   "execution_count": 6,
   "id": "9c64792c",
   "metadata": {},
   "outputs": [],
   "source": [
    "import numpy as np ## => here np is the alias, just like the nick name of the module"
   ]
  },
  {
   "cell_type": "code",
   "execution_count": null,
   "id": "2137ea65",
   "metadata": {},
   "outputs": [],
   "source": [
    "\"\"\"https://www.udemy.com/course/complete-generative-ai-course-with-langchain-and-huggingface/learn/lecture/44220216#overview\"\"\"\n",
    "\"\"\"Video 21\"\"\""
   ]
  },
  {
   "cell_type": "code",
   "execution_count": 11,
   "id": "0ca89b89",
   "metadata": {},
   "outputs": [
    {
     "data": {
      "text/plain": [
       "5"
      ]
     },
     "execution_count": 11,
     "metadata": {},
     "output_type": "execute_result"
    }
   ],
   "source": [
    "from package.maths import addition\n",
    "addition(2,3)"
   ]
  }
 ],
 "metadata": {
  "kernelspec": {
   "display_name": "Udemy",
   "language": "python",
   "name": "python3"
  },
  "language_info": {
   "codemirror_mode": {
    "name": "ipython",
    "version": 3
   },
   "file_extension": ".py",
   "mimetype": "text/x-python",
   "name": "python",
   "nbconvert_exporter": "python",
   "pygments_lexer": "ipython3",
   "version": "3.12.7"
  }
 },
 "nbformat": 4,
 "nbformat_minor": 5
}
