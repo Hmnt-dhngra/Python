{
 "cells": [
  {
   "cell_type": "code",
   "execution_count": 2,
   "id": "64da0c87",
   "metadata": {},
   "outputs": [],
   "source": [
    "import array"
   ]
  },
  {
   "cell_type": "code",
   "execution_count": 8,
   "id": "5796ce81",
   "metadata": {},
   "outputs": [
    {
     "name": "stdout",
     "output_type": "stream",
     "text": [
      "31\n",
      "cherry\n"
     ]
    }
   ],
   "source": [
    "## random\n",
    "\n",
    "import random\n",
    "print(random.randint(10,100)) ## gives yiou a single random number between the integeres specified\n",
    "print(random.choice(['apple', 'pineapple', 'cherry'])) ## gives you a single selection out of the list items specified"
   ]
  },
  {
   "cell_type": "code",
   "execution_count": null,
   "id": "705c7985",
   "metadata": {},
   "outputs": [
    {
     "data": {
      "text/plain": [
       "'c:\\\\Personal\\\\upskill2025\\\\Udemy\\\\5-Modules\\\\requirements.txt'"
      ]
     },
     "execution_count": 18,
     "metadata": {},
     "output_type": "execute_result"
    }
   ],
   "source": [
    "## High level operations of files and locations of file. Copy file from one location to another\n",
    "import shutil\n",
    "import os\n",
    "shutil.copyfile('c:\\\\Personal\\\\upskill2025\\\\Udemy\\\\requirements.txt', os.path.join(os.getcwd(), 'requirements.txt'))"
   ]
  },
  {
   "cell_type": "code",
   "execution_count": null,
   "id": "501aae7c",
   "metadata": {},
   "outputs": [],
   "source": []
  },
  {
   "cell_type": "code",
   "execution_count": 17,
   "id": "74fd9fb4",
   "metadata": {},
   "outputs": [
    {
     "data": {
      "text/plain": [
       "'c:\\\\Personal\\\\upskill2025\\\\Udemy\\\\requirements.txt'"
      ]
     },
     "execution_count": 17,
     "metadata": {},
     "output_type": "execute_result"
    }
   ],
   "source": [
    "os.path.join(os.path.dirname(os.getcwd()), 'requirements.txt')"
   ]
  },
  {
   "cell_type": "code",
   "execution_count": 24,
   "id": "c9a31dc5",
   "metadata": {},
   "outputs": [
    {
     "name": "stdout",
     "output_type": "stream",
     "text": [
      " The json is {'name': 'Hemant', 'age': 30}\n",
      " The initial datatype is <class 'dict'>\n",
      "\n",
      "\n",
      " The json is {\"name\": \"Hemant\", \"age\": 30}\n",
      " The initial datatype is <class 'str'>\n",
      "\n",
      "\n",
      " The json is {'name': 'Hemant', 'age': 30}\n",
      " The initial datatype is <class 'dict'>\n"
     ]
    }
   ],
   "source": [
    "## Data serialisation\n",
    "import json\n",
    "data ={'name':'Hemant', 'age': 30}\n",
    "print(f\" The json is {data}\")\n",
    "print(f\" The initial datatype is {type(data)}\")\n",
    "print('\\n')\n",
    "\n",
    "json_str = json.dumps(data)\n",
    "print(f\" The json is {json_str}\")\n",
    "print(f\" The initial datatype is {type(json_str)}\")\n",
    "print('\\n')\n",
    "\n",
    "parsed_data = json.loads(json_str)\n",
    "print(f\" The json is {parsed_data}\")\n",
    "print(f\" The initial datatype is {type(parsed_data)}\")"
   ]
  },
  {
   "cell_type": "code",
   "execution_count": 25,
   "id": "47d579e8",
   "metadata": {},
   "outputs": [
    {
     "name": "stdout",
     "output_type": "stream",
     "text": [
      "['name', 'age']\n",
      "['Hemant', '30']\n"
     ]
    }
   ],
   "source": [
    "## csv\n",
    "\n",
    "import csv\n",
    "\n",
    "with open('example.csv', mode='w', newline='') as file:\n",
    "    writer = csv.writer(file)\n",
    "    writer.writerow(['name', 'age'])\n",
    "    writer.writerow(['Hemant', '30'])\n",
    "\n",
    "with open('example.csv', mode = 'r') as file:\n",
    "    reader = csv.reader(file)\n",
    "    for row in reader:\n",
    "        print(row)"
   ]
  },
  {
   "cell_type": "code",
   "execution_count": 27,
   "id": "644d9769",
   "metadata": {},
   "outputs": [
    {
     "name": "stdout",
     "output_type": "stream",
     "text": [
      "2025-10-26 17:27:14.016970\n",
      "2025-10-25 17:27:14.016970\n"
     ]
    }
   ],
   "source": [
    "## datetime\n",
    "\n",
    "from datetime import datetime, timedelta\n",
    "\n",
    "now = datetime.now()\n",
    "print(now)\n",
    "\n",
    "yesterday=now-timedelta(days=1)\n",
    "print(yesterday)"
   ]
  },
  {
   "cell_type": "code",
   "execution_count": 30,
   "id": "125a90a3",
   "metadata": {},
   "outputs": [
    {
     "name": "stdout",
     "output_type": "stream",
     "text": [
      "1761479895.2146564\n",
      "1761479897.2156148\n"
     ]
    }
   ],
   "source": [
    "## time\n",
    "\n",
    "import time\n",
    "\n",
    "print(time.time())\n",
    "time.sleep(2)\n",
    "print(time.time())"
   ]
  },
  {
   "cell_type": "code",
   "execution_count": null,
   "id": "6cf2ffa0",
   "metadata": {},
   "outputs": [
    {
     "name": "stdout",
     "output_type": "stream",
     "text": [
      "123\n"
     ]
    }
   ],
   "source": [
    "## Regular expression\n",
    "\n",
    "import re\n",
    "\n",
    "pattern = r'\\d+' ## digits\n",
    "text = 'There are 123 apples'\n",
    "match = re.search(pattern, text)\n",
    "print(match.group())"
   ]
  },
  {
   "cell_type": "code",
   "execution_count": null,
   "id": "03c6fbe9",
   "metadata": {},
   "outputs": [
    {
     "name": "stdout",
     "output_type": "stream",
     "text": [
      "123\n"
     ]
    }
   ],
   "source": [
    "## Regular expression\n",
    "\n",
    "import re\n",
    "\n",
    "pattern = r'\\d+' ## digits\n",
    "text = 'There are 123 apples which i age at 1600 hrs'\n",
    "match = re.search(pattern, text)\n",
    "print(match.group())\n",
    "\n",
    "## searches only the first instance of digits and ignores teh rest if any"
   ]
  },
  {
   "cell_type": "code",
   "execution_count": null,
   "id": "68b2e15b",
   "metadata": {},
   "outputs": [],
   "source": []
  }
 ],
 "metadata": {
  "kernelspec": {
   "display_name": "Udemy",
   "language": "python",
   "name": "python3"
  },
  "language_info": {
   "codemirror_mode": {
    "name": "ipython",
    "version": 3
   },
   "file_extension": ".py",
   "mimetype": "text/x-python",
   "name": "python",
   "nbconvert_exporter": "python",
   "pygments_lexer": "ipython3",
   "version": "3.12.7"
  }
 },
 "nbformat": 4,
 "nbformat_minor": 5
}
